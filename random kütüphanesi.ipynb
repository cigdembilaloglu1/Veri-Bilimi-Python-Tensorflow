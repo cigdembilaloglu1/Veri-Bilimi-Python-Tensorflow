{
 "cells": [
  {
   "cell_type": "code",
   "execution_count": 4,
   "id": "5561d040",
   "metadata": {},
   "outputs": [
    {
     "data": {
      "text/plain": [
       "64"
      ]
     },
     "execution_count": 4,
     "metadata": {},
     "output_type": "execute_result"
    }
   ],
   "source": [
    "from random import randint\n",
    "randint(0,100)\n",
    "sayilar=list(range(20,50))\n"
   ]
  },
  {
   "cell_type": "code",
   "execution_count": 23,
   "id": "e53b0f77",
   "metadata": {},
   "outputs": [
    {
     "data": {
      "text/plain": [
       "[37,\n",
       " 49,\n",
       " 31,\n",
       " 21,\n",
       " 28,\n",
       " 25,\n",
       " 43,\n",
       " 40,\n",
       " 36,\n",
       " 30,\n",
       " 44,\n",
       " 39,\n",
       " 34,\n",
       " 46,\n",
       " 23,\n",
       " 32,\n",
       " 27,\n",
       " 47,\n",
       " 41,\n",
       " 20,\n",
       " 45,\n",
       " 22,\n",
       " 38,\n",
       " 48,\n",
       " 29,\n",
       " 26,\n",
       " 24,\n",
       " 42,\n",
       " 35,\n",
       " 33]"
      ]
     },
     "execution_count": 23,
     "metadata": {},
     "output_type": "execute_result"
    }
   ],
   "source": [
    "from random import shuffle\n",
    "shuffle(sayilar)\n",
    "sayilar\n"
   ]
  },
  {
   "cell_type": "code",
   "execution_count": 17,
   "id": "d25798ca",
   "metadata": {},
   "outputs": [
    {
     "name": "stdout",
     "output_type": "stream",
     "text": [
      "[20, 21, 22, 23, 24, 25, 26, 27, 28, 29, 30, 31, 32, 33, 34, 35, 36, 37, 38, 39, 40, 41, 42, 43, 44, 45, 46, 47, 48, 49]\n"
     ]
    }
   ],
   "source": [
    "from random import randint\n",
    "sayilar=list(range(20,50))\n",
    "print(sayilar)\n"
   ]
  },
  {
   "cell_type": "code",
   "execution_count": 20,
   "id": "f852f64b",
   "metadata": {},
   "outputs": [
    {
     "data": {
      "text/plain": [
       "[20,\n",
       " 21,\n",
       " 22,\n",
       " 23,\n",
       " 24,\n",
       " 25,\n",
       " 26,\n",
       " 27,\n",
       " 28,\n",
       " 29,\n",
       " 30,\n",
       " 31,\n",
       " 32,\n",
       " 33,\n",
       " 34,\n",
       " 35,\n",
       " 36,\n",
       " 37,\n",
       " 38,\n",
       " 39,\n",
       " 40,\n",
       " 41,\n",
       " 42,\n",
       " 43,\n",
       " 44,\n",
       " 45,\n",
       " 46,\n",
       " 47,\n",
       " 48,\n",
       " 49]"
      ]
     },
     "execution_count": 20,
     "metadata": {},
     "output_type": "execute_result"
    }
   ],
   "source": [
    "from random import randint\n",
    "sayilar=list(range(20,50))\n",
    "sayilar"
   ]
  },
  {
   "cell_type": "code",
   "execution_count": 22,
   "id": "32363356",
   "metadata": {},
   "outputs": [
    {
     "data": {
      "text/plain": [
       "24"
      ]
     },
     "execution_count": 22,
     "metadata": {},
     "output_type": "execute_result"
    }
   ],
   "source": [
    "sayilar[randint(0,19)]"
   ]
  }
 ],
 "metadata": {
  "kernelspec": {
   "display_name": "Python 3 (ipykernel)",
   "language": "python",
   "name": "python3"
  },
  "language_info": {
   "codemirror_mode": {
    "name": "ipython",
    "version": 3
   },
   "file_extension": ".py",
   "mimetype": "text/x-python",
   "name": "python",
   "nbconvert_exporter": "python",
   "pygments_lexer": "ipython3",
   "version": "3.10.3"
  }
 },
 "nbformat": 4,
 "nbformat_minor": 5
}
