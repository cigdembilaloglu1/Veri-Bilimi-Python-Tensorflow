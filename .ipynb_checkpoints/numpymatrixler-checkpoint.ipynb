{
 "cells": [
  {
   "cell_type": "code",
   "execution_count": 3,
   "id": "85f5b590",
   "metadata": {},
   "outputs": [],
   "source": [
    "import numpy as np\n",
    "liste=[[10,20,30],[20,30,40],[40,50,60]]"
   ]
  },
  {
   "cell_type": "code",
   "execution_count": 4,
   "id": "21810d36",
   "metadata": {},
   "outputs": [],
   "source": [
    "matrixdizi=np.array(liste)"
   ]
  },
  {
   "cell_type": "code",
   "execution_count": 5,
   "id": "fe41e958",
   "metadata": {},
   "outputs": [
    {
     "data": {
      "text/plain": [
       "array([[10, 20, 30],\n",
       "       [20, 30, 40],\n",
       "       [40, 50, 60]])"
      ]
     },
     "execution_count": 5,
     "metadata": {},
     "output_type": "execute_result"
    }
   ],
   "source": [
    "matrixdizi"
   ]
  },
  {
   "cell_type": "code",
   "execution_count": 6,
   "id": "cb8259a9",
   "metadata": {},
   "outputs": [
    {
     "data": {
      "text/plain": [
       "array([10, 20, 30])"
      ]
     },
     "execution_count": 6,
     "metadata": {},
     "output_type": "execute_result"
    }
   ],
   "source": [
    "matrixdizi[0]"
   ]
  },
  {
   "cell_type": "code",
   "execution_count": 7,
   "id": "2f723055",
   "metadata": {},
   "outputs": [
    {
     "data": {
      "text/plain": [
       "40"
      ]
     },
     "execution_count": 7,
     "metadata": {},
     "output_type": "execute_result"
    }
   ],
   "source": [
    "matrixdizi[1][2]"
   ]
  },
  {
   "cell_type": "code",
   "execution_count": 8,
   "id": "6979a50e",
   "metadata": {},
   "outputs": [
    {
     "data": {
      "text/plain": [
       "40"
      ]
     },
     "execution_count": 8,
     "metadata": {},
     "output_type": "execute_result"
    }
   ],
   "source": [
    " matrixdizi[1,2]"
   ]
  },
  {
   "cell_type": "code",
   "execution_count": 10,
   "id": "de5aeaae",
   "metadata": {},
   "outputs": [
    {
     "data": {
      "text/plain": [
       "array([40, 60])"
      ]
     },
     "execution_count": 10,
     "metadata": {},
     "output_type": "execute_result"
    }
   ],
   "source": [
    "matrixdizi[1:,2]"
   ]
  },
  {
   "cell_type": "code",
   "execution_count": 11,
   "id": "90e86262",
   "metadata": {},
   "outputs": [
    {
     "data": {
      "text/plain": [
       "array([[40, 50, 60]])"
      ]
     },
     "execution_count": 11,
     "metadata": {},
     "output_type": "execute_result"
    }
   ],
   "source": [
    "matrixdizi[2:,0:]"
   ]
  },
  {
   "cell_type": "code",
   "execution_count": 14,
   "id": "19f88eff",
   "metadata": {},
   "outputs": [
    {
     "data": {
      "text/plain": [
       "array([[40, 50, 60]])"
      ]
     },
     "execution_count": 14,
     "metadata": {},
     "output_type": "execute_result"
    }
   ],
   "source": [
    "matrixdizi[[2]]"
   ]
  },
  {
   "cell_type": "code",
   "execution_count": 15,
   "id": "32300488",
   "metadata": {},
   "outputs": [
    {
     "data": {
      "text/plain": [
       "array([[20, 30, 40],\n",
       "       [40, 50, 60]])"
      ]
     },
     "execution_count": 15,
     "metadata": {},
     "output_type": "execute_result"
    }
   ],
   "source": [
    "matrixdizi[[1,2]]"
   ]
  },
  {
   "cell_type": "code",
   "execution_count": null,
   "id": "c6213b4b",
   "metadata": {},
   "outputs": [],
   "source": []
  }
 ],
 "metadata": {
  "kernelspec": {
   "display_name": "Python 3 (ipykernel)",
   "language": "python",
   "name": "python3"
  },
  "language_info": {
   "codemirror_mode": {
    "name": "ipython",
    "version": 3
   },
   "file_extension": ".py",
   "mimetype": "text/x-python",
   "name": "python",
   "nbconvert_exporter": "python",
   "pygments_lexer": "ipython3",
   "version": "3.10.3"
  }
 },
 "nbformat": 4,
 "nbformat_minor": 5
}
