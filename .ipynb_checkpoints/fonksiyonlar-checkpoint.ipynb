{
 "cells": [
  {
   "cell_type": "code",
   "execution_count": 1,
   "id": "3a491750",
   "metadata": {},
   "outputs": [
    {
     "data": {
      "text/plain": [
       "'ÇIĞDEM BILALOĞLU'"
      ]
     },
     "execution_count": 1,
     "metadata": {},
     "output_type": "execute_result"
    }
   ],
   "source": [
    "ad=\"çiğdem bilaloğlu\"\n",
    "ad.upper()\n",
    "\n"
   ]
  },
  {
   "cell_type": "code",
   "execution_count": 2,
   "id": "5da1c0eb",
   "metadata": {},
   "outputs": [
    {
     "data": {
      "text/plain": [
       "'çiğdem bilaloğlu'"
      ]
     },
     "execution_count": 2,
     "metadata": {},
     "output_type": "execute_result"
    }
   ],
   "source": [
    "ad=\"çiğdem bilaloğlu\"\n",
    "ad.lower()"
   ]
  },
  {
   "cell_type": "code",
   "execution_count": 8,
   "id": "7a2bd9dd",
   "metadata": {},
   "outputs": [
    {
     "data": {
      "text/plain": [
       "<function str.replace(old, new, count=-1, /)>"
      ]
     },
     "execution_count": 8,
     "metadata": {},
     "output_type": "execute_result"
    }
   ],
   "source": [
    "ad=\"çiğdem bilal\"\n",
    "ad.replace"
   ]
  },
  {
   "cell_type": "code",
   "execution_count": 9,
   "id": "609eb374",
   "metadata": {},
   "outputs": [],
   "source": [
    "def fonksiyon():\n",
    "    print(\"fonksiyon çalışıyor\")\n"
   ]
  },
  {
   "cell_type": "code",
   "execution_count": 10,
   "id": "c02d37c5",
   "metadata": {},
   "outputs": [
    {
     "name": "stdout",
     "output_type": "stream",
     "text": [
      "fonksiyon çalışıyor\n"
     ]
    }
   ],
   "source": [
    "fonksiyon()"
   ]
  }
 ],
 "metadata": {
  "kernelspec": {
   "display_name": "Python 3 (ipykernel)",
   "language": "python",
   "name": "python3"
  },
  "language_info": {
   "codemirror_mode": {
    "name": "ipython",
    "version": 3
   },
   "file_extension": ".py",
   "mimetype": "text/x-python",
   "name": "python",
   "nbconvert_exporter": "python",
   "pygments_lexer": "ipython3",
   "version": "3.10.3"
  }
 },
 "nbformat": 4,
 "nbformat_minor": 5
}
