{
 "cells": [
  {
   "cell_type": "code",
   "execution_count": 3,
   "id": "3a19122e",
   "metadata": {},
   "outputs": [],
   "source": [
    "def toplam(*args):\n",
    "    return sum(args)"
   ]
  },
  {
   "cell_type": "code",
   "execution_count": 4,
   "id": "a36257bd",
   "metadata": {},
   "outputs": [
    {
     "data": {
      "text/plain": [
       "130"
      ]
     },
     "execution_count": 4,
     "metadata": {},
     "output_type": "execute_result"
    }
   ],
   "source": [
    "toplam(20,52,58)"
   ]
  },
  {
   "cell_type": "code",
   "execution_count": 5,
   "id": "6f8ab07c",
   "metadata": {},
   "outputs": [],
   "source": [
    "def sozluk(**kwargs):\n",
    "    return kwargs"
   ]
  },
  {
   "cell_type": "code",
   "execution_count": 9,
   "id": "0986556d",
   "metadata": {},
   "outputs": [
    {
     "data": {
      "text/plain": [
       "{'muz': 2, 'elma': 52, 'armut': 74}"
      ]
     },
     "execution_count": 9,
     "metadata": {},
     "output_type": "execute_result"
    }
   ],
   "source": [
    "sozluk(muz=2,elma=52,armut=74)"
   ]
  },
  {
   "cell_type": "code",
   "execution_count": null,
   "id": "fb88741c",
   "metadata": {},
   "outputs": [],
   "source": []
  },
  {
   "cell_type": "code",
   "execution_count": null,
   "id": "d5ee8d5b",
   "metadata": {},
   "outputs": [],
   "source": []
  }
 ],
 "metadata": {
  "kernelspec": {
   "display_name": "Python 3 (ipykernel)",
   "language": "python",
   "name": "python3"
  },
  "language_info": {
   "codemirror_mode": {
    "name": "ipython",
    "version": 3
   },
   "file_extension": ".py",
   "mimetype": "text/x-python",
   "name": "python",
   "nbconvert_exporter": "python",
   "pygments_lexer": "ipython3",
   "version": "3.10.3"
  }
 },
 "nbformat": 4,
 "nbformat_minor": 5
}
