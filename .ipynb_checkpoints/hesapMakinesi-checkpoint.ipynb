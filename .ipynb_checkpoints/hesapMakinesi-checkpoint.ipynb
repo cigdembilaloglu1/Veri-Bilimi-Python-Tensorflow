{
 "cells": [
  {
   "cell_type": "code",
   "execution_count": null,
   "id": "4a42cee4",
   "metadata": {},
   "outputs": [
    {
     "name": "stdout",
     "output_type": "stream",
     "text": [
      "1.sayı:10\n",
      "2.sayı:20\n",
      "işleminizi seçiniz : +-*/+\n",
      "10 + 20 = 30\n",
      "1.sayı:41\n",
      "2.sayı:2\n",
      "işleminizi seçiniz : +-*/*\n",
      "41 * 2 = 82\n",
      "1.sayı:25\n",
      "2.sayı:78\n",
      "işleminizi seçiniz : +-*/-\n",
      "25 - 78 = -53\n",
      "1.sayı:36\n",
      "2.sayı:57\n",
      "işleminizi seçiniz : +-*//\n",
      "36 / 57 = 0.631578947368421\n"
     ]
    }
   ],
   "source": [
    "def hesapMakinesi(a,b,islem):\n",
    "    \n",
    "    if islem not in \"+-*/\":\n",
    "        return \"lütfen şu işlemlerden birini seçiniz: + - * / \"\n",
    "    \n",
    "    if islem ==\"+\":\n",
    "        return (str(a)+ \" + \"+str(b)+\" = \"+ str(a+b))\n",
    "    if islem ==\"-\":\n",
    "        return (str(a)+ \" - \"+str(b)+\" = \"+ str(a-b))\n",
    "    if islem ==\"*\":\n",
    "        return (str(a)+ \" * \"+str(b)+\" = \"+ str(a*b))\n",
    "    if islem ==\"/\":\n",
    "        return (str(a)+ \" / \"+str(b)+\" = \"+ str(a/b))\n",
    "\n",
    "while True:\n",
    "  \n",
    "        a=int(input(\"1.sayı:\"))\n",
    "        b=int(input(\"2.sayı:\"))\n",
    "        islem=input(\"işleminizi seçiniz : +-*/\")\n",
    "        print(hesapMakinesi(a,b,islem))\n",
    "  \n",
    "    "
   ]
  },
  {
   "cell_type": "code",
   "execution_count": null,
   "id": "8c0b7f4b",
   "metadata": {},
   "outputs": [],
   "source": []
  },
  {
   "cell_type": "code",
   "execution_count": null,
   "id": "92fa9bb7",
   "metadata": {},
   "outputs": [],
   "source": []
  },
  {
   "cell_type": "code",
   "execution_count": null,
   "id": "5834d1ab",
   "metadata": {},
   "outputs": [],
   "source": [
    "\n",
    "\n"
   ]
  }
 ],
 "metadata": {
  "kernelspec": {
   "display_name": "Python 3 (ipykernel)",
   "language": "python",
   "name": "python3"
  },
  "language_info": {
   "codemirror_mode": {
    "name": "ipython",
    "version": 3
   },
   "file_extension": ".py",
   "mimetype": "text/x-python",
   "name": "python",
   "nbconvert_exporter": "python",
   "pygments_lexer": "ipython3",
   "version": "3.10.3"
  }
 },
 "nbformat": 4,
 "nbformat_minor": 5
}
