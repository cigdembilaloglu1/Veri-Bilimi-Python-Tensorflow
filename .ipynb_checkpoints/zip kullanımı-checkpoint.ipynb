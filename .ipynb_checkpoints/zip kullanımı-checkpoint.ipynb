{
 "cells": [
  {
   "cell_type": "code",
   "execution_count": 2,
   "id": "77e47312",
   "metadata": {},
   "outputs": [
    {
     "name": "stdout",
     "output_type": "stream",
     "text": [
      "[('pazartesi', 'sabah', 'matematik'), ('salı', 'öğleden sonra', 'türkçe'), ('çarşamba', 'akşam', 'coğrafya')]\n"
     ]
    }
   ],
   "source": [
    "gun=[\"pazartesi\",\"salı\",\"çarşamba\"]\n",
    "zaman=[\"sabah\",\"öğleden sonra\",\"akşam\"]\n",
    "ders=[\"matematik\",\"türkçe\",\"coğrafya\"]\n",
    "\n",
    "ziplist=list(zip(gun,zaman,ders))\n",
    "print(ziplist)\n"
   ]
  }
 ],
 "metadata": {
  "kernelspec": {
   "display_name": "Python 3 (ipykernel)",
   "language": "python",
   "name": "python3"
  },
  "language_info": {
   "codemirror_mode": {
    "name": "ipython",
    "version": 3
   },
   "file_extension": ".py",
   "mimetype": "text/x-python",
   "name": "python",
   "nbconvert_exporter": "python",
   "pygments_lexer": "ipython3",
   "version": "3.10.3"
  }
 },
 "nbformat": 4,
 "nbformat_minor": 5
}
