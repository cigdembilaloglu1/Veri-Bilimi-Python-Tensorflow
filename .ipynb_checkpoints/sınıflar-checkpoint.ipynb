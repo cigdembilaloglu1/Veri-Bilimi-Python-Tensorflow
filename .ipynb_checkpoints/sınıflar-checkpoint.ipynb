{
 "cells": [
  {
   "cell_type": "code",
   "execution_count": 1,
   "id": "5e48c8fd",
   "metadata": {},
   "outputs": [],
   "source": [
    "class Personel():\n",
    "    def __init__ (self,ad,soyad,meslek):\n",
    "        self.ad=ad\n",
    "        self.soyad=soyad\n",
    "        self.meslek=meslek\n",
    "        print(\"sınıf çalışıyor\")\n"
   ]
  },
  {
   "cell_type": "code",
   "execution_count": 2,
   "id": "7163d8ee",
   "metadata": {},
   "outputs": [
    {
     "name": "stdout",
     "output_type": "stream",
     "text": [
      "sınıf çalışıyor\n"
     ]
    },
    {
     "data": {
      "text/plain": [
       "<__main__.Personel at 0x25d71f20250>"
      ]
     },
     "execution_count": 2,
     "metadata": {},
     "output_type": "execute_result"
    }
   ],
   "source": [
    "Personel(\"çiğdem\",\"bilaloğlu\",\"software developer\")"
   ]
  },
  {
   "cell_type": "code",
   "execution_count": 3,
   "id": "056c1fea",
   "metadata": {},
   "outputs": [
    {
     "name": "stdout",
     "output_type": "stream",
     "text": [
      "sınıf çalışıyor\n"
     ]
    }
   ],
   "source": [
    "pers=Personel(\"çiğdem\",\"bilaloğlu\",\"software developer\")"
   ]
  },
  {
   "cell_type": "code",
   "execution_count": 4,
   "id": "a441a69b",
   "metadata": {},
   "outputs": [
    {
     "data": {
      "text/plain": [
       "'çiğdem'"
      ]
     },
     "execution_count": 4,
     "metadata": {},
     "output_type": "execute_result"
    }
   ],
   "source": [
    "pers.ad"
   ]
  },
  {
   "cell_type": "code",
   "execution_count": 5,
   "id": "2848a622",
   "metadata": {},
   "outputs": [
    {
     "data": {
      "text/plain": [
       "'bilaloğlu'"
      ]
     },
     "execution_count": 5,
     "metadata": {},
     "output_type": "execute_result"
    }
   ],
   "source": [
    "pers.soyad"
   ]
  },
  {
   "cell_type": "code",
   "execution_count": 6,
   "id": "a245804a",
   "metadata": {},
   "outputs": [
    {
     "data": {
      "text/plain": [
       "'software developer'"
      ]
     },
     "execution_count": 6,
     "metadata": {},
     "output_type": "execute_result"
    }
   ],
   "source": [
    "pers.meslek"
   ]
  },
  {
   "cell_type": "code",
   "execution_count": null,
   "id": "e2ad1db6",
   "metadata": {},
   "outputs": [],
   "source": []
  }
 ],
 "metadata": {
  "kernelspec": {
   "display_name": "Python 3 (ipykernel)",
   "language": "python",
   "name": "python3"
  },
  "language_info": {
   "codemirror_mode": {
    "name": "ipython",
    "version": 3
   },
   "file_extension": ".py",
   "mimetype": "text/x-python",
   "name": "python",
   "nbconvert_exporter": "python",
   "pygments_lexer": "ipython3",
   "version": "3.10.3"
  }
 },
 "nbformat": 4,
 "nbformat_minor": 5
}
