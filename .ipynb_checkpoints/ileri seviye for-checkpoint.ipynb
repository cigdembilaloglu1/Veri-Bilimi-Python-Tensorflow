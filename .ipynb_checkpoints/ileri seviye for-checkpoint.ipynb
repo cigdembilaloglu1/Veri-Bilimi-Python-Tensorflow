{
 "cells": [
  {
   "cell_type": "code",
   "execution_count": 1,
   "id": "4315b1a8",
   "metadata": {},
   "outputs": [],
   "source": [
    "kareHesaplama=[sayi **2 for sayi in list(range(0,10))]"
   ]
  },
  {
   "cell_type": "code",
   "execution_count": 2,
   "id": "5155d3ca",
   "metadata": {},
   "outputs": [
    {
     "data": {
      "text/plain": [
       "[0, 1, 4, 9, 16, 25, 36, 49, 64, 81]"
      ]
     },
     "execution_count": 2,
     "metadata": {},
     "output_type": "execute_result"
    }
   ],
   "source": [
    "kareHesaplama\n"
   ]
  }
 ],
 "metadata": {
  "kernelspec": {
   "display_name": "Python 3 (ipykernel)",
   "language": "python",
   "name": "python3"
  },
  "language_info": {
   "codemirror_mode": {
    "name": "ipython",
    "version": 3
   },
   "file_extension": ".py",
   "mimetype": "text/x-python",
   "name": "python",
   "nbconvert_exporter": "python",
   "pygments_lexer": "ipython3",
   "version": "3.10.3"
  }
 },
 "nbformat": 4,
 "nbformat_minor": 5
}
