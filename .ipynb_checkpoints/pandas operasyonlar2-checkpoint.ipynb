{
 "cells": [
  {
   "cell_type": "code",
   "execution_count": 1,
   "id": "412a86f2",
   "metadata": {},
   "outputs": [],
   "source": [
    "import pandas as pd\n",
    "import numpy as np"
   ]
  },
  {
   "cell_type": "code",
   "execution_count": 2,
   "id": "3c03d917",
   "metadata": {},
   "outputs": [],
   "source": [
    "sozluk1={\"isim\":[\"ahmet\",\"mehmet\",\"zeynep\",\"atıl\"],\n",
    "         \"spor\" :[\"koşu\",\"yüzme\",\"koşu\",\"basketbol\"],\n",
    "        \"kalori\":[100,200,300,400]\n",
    "        }"
   ]
  },
  {
   "cell_type": "code",
   "execution_count": 3,
   "id": "d2a48bf7",
   "metadata": {},
   "outputs": [],
   "source": [
    "dataFrame1=pd.DataFrame(sozluk1,index=[0,1,2,3])"
   ]
  },
  {
   "cell_type": "code",
   "execution_count": 4,
   "id": "2066bc10",
   "metadata": {},
   "outputs": [
    {
     "data": {
      "text/html": [
       "<div>\n",
       "<style scoped>\n",
       "    .dataframe tbody tr th:only-of-type {\n",
       "        vertical-align: middle;\n",
       "    }\n",
       "\n",
       "    .dataframe tbody tr th {\n",
       "        vertical-align: top;\n",
       "    }\n",
       "\n",
       "    .dataframe thead th {\n",
       "        text-align: right;\n",
       "    }\n",
       "</style>\n",
       "<table border=\"1\" class=\"dataframe\">\n",
       "  <thead>\n",
       "    <tr style=\"text-align: right;\">\n",
       "      <th></th>\n",
       "      <th>isim</th>\n",
       "      <th>spor</th>\n",
       "      <th>kalori</th>\n",
       "    </tr>\n",
       "  </thead>\n",
       "  <tbody>\n",
       "    <tr>\n",
       "      <th>0</th>\n",
       "      <td>ahmet</td>\n",
       "      <td>koşu</td>\n",
       "      <td>100</td>\n",
       "    </tr>\n",
       "    <tr>\n",
       "      <th>1</th>\n",
       "      <td>mehmet</td>\n",
       "      <td>yüzme</td>\n",
       "      <td>200</td>\n",
       "    </tr>\n",
       "    <tr>\n",
       "      <th>2</th>\n",
       "      <td>zeynep</td>\n",
       "      <td>koşu</td>\n",
       "      <td>300</td>\n",
       "    </tr>\n",
       "    <tr>\n",
       "      <th>3</th>\n",
       "      <td>atıl</td>\n",
       "      <td>basketbol</td>\n",
       "      <td>400</td>\n",
       "    </tr>\n",
       "  </tbody>\n",
       "</table>\n",
       "</div>"
      ],
      "text/plain": [
       "     isim       spor  kalori\n",
       "0   ahmet       koşu     100\n",
       "1  mehmet      yüzme     200\n",
       "2  zeynep       koşu     300\n",
       "3    atıl  basketbol     400"
      ]
     },
     "execution_count": 4,
     "metadata": {},
     "output_type": "execute_result"
    }
   ],
   "source": [
    "dataFrame1"
   ]
  },
  {
   "cell_type": "code",
   "execution_count": 7,
   "id": "111497a3",
   "metadata": {},
   "outputs": [],
   "source": [
    "sozluk2={\"isim\":[\"osman\",\"levent\",\"atlas\",\"fatma\"],\n",
    "         \"spor\" :[\"koşu\",\"yüzme\",\"koşu\",\"basketbol\"],\n",
    "        \"kalori\":[200,100,50,300]\n",
    "        }"
   ]
  },
  {
   "cell_type": "code",
   "execution_count": 9,
   "id": "fcf13ba0",
   "metadata": {},
   "outputs": [],
   "source": [
    "dataFrame2=pd.DataFrame(sozluk2,index=[4,5,6,7])"
   ]
  },
  {
   "cell_type": "code",
   "execution_count": 10,
   "id": "439a7b30",
   "metadata": {},
   "outputs": [],
   "source": [
    "sozluk3={\"isim\":[\"atşe\",\"mahmut\",\"duygu\",\"nur\"],\n",
    "         \"spor\" :[\"koşu\",\"yüzme\",\"badminton\",\"tenis\"],\n",
    "        \"kalori\":[300,400,500,250]\n",
    "        }"
   ]
  },
  {
   "cell_type": "code",
   "execution_count": 11,
   "id": "f8417837",
   "metadata": {},
   "outputs": [],
   "source": [
    "dataFrame3=pd.DataFrame(sozluk3,index=[8,9,10,11])"
   ]
  },
  {
   "cell_type": "code",
   "execution_count": 12,
   "id": "32d50101",
   "metadata": {},
   "outputs": [
    {
     "data": {
      "text/html": [
       "<div>\n",
       "<style scoped>\n",
       "    .dataframe tbody tr th:only-of-type {\n",
       "        vertical-align: middle;\n",
       "    }\n",
       "\n",
       "    .dataframe tbody tr th {\n",
       "        vertical-align: top;\n",
       "    }\n",
       "\n",
       "    .dataframe thead th {\n",
       "        text-align: right;\n",
       "    }\n",
       "</style>\n",
       "<table border=\"1\" class=\"dataframe\">\n",
       "  <thead>\n",
       "    <tr style=\"text-align: right;\">\n",
       "      <th></th>\n",
       "      <th>isim</th>\n",
       "      <th>spor</th>\n",
       "      <th>kalori</th>\n",
       "    </tr>\n",
       "  </thead>\n",
       "  <tbody>\n",
       "    <tr>\n",
       "      <th>4</th>\n",
       "      <td>osman</td>\n",
       "      <td>koşu</td>\n",
       "      <td>200</td>\n",
       "    </tr>\n",
       "    <tr>\n",
       "      <th>5</th>\n",
       "      <td>levent</td>\n",
       "      <td>yüzme</td>\n",
       "      <td>100</td>\n",
       "    </tr>\n",
       "    <tr>\n",
       "      <th>6</th>\n",
       "      <td>atlas</td>\n",
       "      <td>koşu</td>\n",
       "      <td>50</td>\n",
       "    </tr>\n",
       "    <tr>\n",
       "      <th>7</th>\n",
       "      <td>fatma</td>\n",
       "      <td>basketbol</td>\n",
       "      <td>300</td>\n",
       "    </tr>\n",
       "  </tbody>\n",
       "</table>\n",
       "</div>"
      ],
      "text/plain": [
       "     isim       spor  kalori\n",
       "4   osman       koşu     200\n",
       "5  levent      yüzme     100\n",
       "6   atlas       koşu      50\n",
       "7   fatma  basketbol     300"
      ]
     },
     "execution_count": 12,
     "metadata": {},
     "output_type": "execute_result"
    }
   ],
   "source": [
    "dataFrame2"
   ]
  },
  {
   "cell_type": "code",
   "execution_count": 13,
   "id": "1a69ef6b",
   "metadata": {},
   "outputs": [
    {
     "data": {
      "text/html": [
       "<div>\n",
       "<style scoped>\n",
       "    .dataframe tbody tr th:only-of-type {\n",
       "        vertical-align: middle;\n",
       "    }\n",
       "\n",
       "    .dataframe tbody tr th {\n",
       "        vertical-align: top;\n",
       "    }\n",
       "\n",
       "    .dataframe thead th {\n",
       "        text-align: right;\n",
       "    }\n",
       "</style>\n",
       "<table border=\"1\" class=\"dataframe\">\n",
       "  <thead>\n",
       "    <tr style=\"text-align: right;\">\n",
       "      <th></th>\n",
       "      <th>isim</th>\n",
       "      <th>spor</th>\n",
       "      <th>kalori</th>\n",
       "    </tr>\n",
       "  </thead>\n",
       "  <tbody>\n",
       "    <tr>\n",
       "      <th>8</th>\n",
       "      <td>atşe</td>\n",
       "      <td>koşu</td>\n",
       "      <td>300</td>\n",
       "    </tr>\n",
       "    <tr>\n",
       "      <th>9</th>\n",
       "      <td>mahmut</td>\n",
       "      <td>yüzme</td>\n",
       "      <td>400</td>\n",
       "    </tr>\n",
       "    <tr>\n",
       "      <th>10</th>\n",
       "      <td>duygu</td>\n",
       "      <td>badminton</td>\n",
       "      <td>500</td>\n",
       "    </tr>\n",
       "    <tr>\n",
       "      <th>11</th>\n",
       "      <td>nur</td>\n",
       "      <td>tenis</td>\n",
       "      <td>250</td>\n",
       "    </tr>\n",
       "  </tbody>\n",
       "</table>\n",
       "</div>"
      ],
      "text/plain": [
       "      isim       spor  kalori\n",
       "8     atşe       koşu     300\n",
       "9   mahmut      yüzme     400\n",
       "10   duygu  badminton     500\n",
       "11     nur      tenis     250"
      ]
     },
     "execution_count": 13,
     "metadata": {},
     "output_type": "execute_result"
    }
   ],
   "source": [
    "dataFrame3"
   ]
  },
  {
   "cell_type": "markdown",
   "id": "0a88c37e",
   "metadata": {},
   "source": [
    "# concatination\n"
   ]
  },
  {
   "cell_type": "code",
   "execution_count": 16,
   "id": "36bfa6d3",
   "metadata": {},
   "outputs": [
    {
     "data": {
      "text/html": [
       "<div>\n",
       "<style scoped>\n",
       "    .dataframe tbody tr th:only-of-type {\n",
       "        vertical-align: middle;\n",
       "    }\n",
       "\n",
       "    .dataframe tbody tr th {\n",
       "        vertical-align: top;\n",
       "    }\n",
       "\n",
       "    .dataframe thead th {\n",
       "        text-align: right;\n",
       "    }\n",
       "</style>\n",
       "<table border=\"1\" class=\"dataframe\">\n",
       "  <thead>\n",
       "    <tr style=\"text-align: right;\">\n",
       "      <th></th>\n",
       "      <th>isim</th>\n",
       "      <th>spor</th>\n",
       "      <th>kalori</th>\n",
       "    </tr>\n",
       "  </thead>\n",
       "  <tbody>\n",
       "    <tr>\n",
       "      <th>4</th>\n",
       "      <td>osman</td>\n",
       "      <td>koşu</td>\n",
       "      <td>200</td>\n",
       "    </tr>\n",
       "    <tr>\n",
       "      <th>5</th>\n",
       "      <td>levent</td>\n",
       "      <td>yüzme</td>\n",
       "      <td>100</td>\n",
       "    </tr>\n",
       "    <tr>\n",
       "      <th>6</th>\n",
       "      <td>atlas</td>\n",
       "      <td>koşu</td>\n",
       "      <td>50</td>\n",
       "    </tr>\n",
       "    <tr>\n",
       "      <th>7</th>\n",
       "      <td>fatma</td>\n",
       "      <td>basketbol</td>\n",
       "      <td>300</td>\n",
       "    </tr>\n",
       "    <tr>\n",
       "      <th>4</th>\n",
       "      <td>osman</td>\n",
       "      <td>koşu</td>\n",
       "      <td>200</td>\n",
       "    </tr>\n",
       "    <tr>\n",
       "      <th>5</th>\n",
       "      <td>levent</td>\n",
       "      <td>yüzme</td>\n",
       "      <td>100</td>\n",
       "    </tr>\n",
       "    <tr>\n",
       "      <th>6</th>\n",
       "      <td>atlas</td>\n",
       "      <td>koşu</td>\n",
       "      <td>50</td>\n",
       "    </tr>\n",
       "    <tr>\n",
       "      <th>7</th>\n",
       "      <td>fatma</td>\n",
       "      <td>basketbol</td>\n",
       "      <td>300</td>\n",
       "    </tr>\n",
       "    <tr>\n",
       "      <th>8</th>\n",
       "      <td>atşe</td>\n",
       "      <td>koşu</td>\n",
       "      <td>300</td>\n",
       "    </tr>\n",
       "    <tr>\n",
       "      <th>9</th>\n",
       "      <td>mahmut</td>\n",
       "      <td>yüzme</td>\n",
       "      <td>400</td>\n",
       "    </tr>\n",
       "    <tr>\n",
       "      <th>10</th>\n",
       "      <td>duygu</td>\n",
       "      <td>badminton</td>\n",
       "      <td>500</td>\n",
       "    </tr>\n",
       "    <tr>\n",
       "      <th>11</th>\n",
       "      <td>nur</td>\n",
       "      <td>tenis</td>\n",
       "      <td>250</td>\n",
       "    </tr>\n",
       "  </tbody>\n",
       "</table>\n",
       "</div>"
      ],
      "text/plain": [
       "      isim       spor  kalori\n",
       "4    osman       koşu     200\n",
       "5   levent      yüzme     100\n",
       "6    atlas       koşu      50\n",
       "7    fatma  basketbol     300\n",
       "4    osman       koşu     200\n",
       "5   levent      yüzme     100\n",
       "6    atlas       koşu      50\n",
       "7    fatma  basketbol     300\n",
       "8     atşe       koşu     300\n",
       "9   mahmut      yüzme     400\n",
       "10   duygu  badminton     500\n",
       "11     nur      tenis     250"
      ]
     },
     "execution_count": 16,
     "metadata": {},
     "output_type": "execute_result"
    }
   ],
   "source": [
    "pd.concat([dataFrame1,dataFrame2,dataFrame3],axis=0)"
   ]
  },
  {
   "cell_type": "code",
   "execution_count": null,
   "id": "2225067c",
   "metadata": {},
   "outputs": [],
   "source": []
  }
 ],
 "metadata": {
  "kernelspec": {
   "display_name": "Python 3 (ipykernel)",
   "language": "python",
   "name": "python3"
  },
  "language_info": {
   "codemirror_mode": {
    "name": "ipython",
    "version": 3
   },
   "file_extension": ".py",
   "mimetype": "text/x-python",
   "name": "python",
   "nbconvert_exporter": "python",
   "pygments_lexer": "ipython3",
   "version": "3.10.3"
  }
 },
 "nbformat": 4,
 "nbformat_minor": 5
}
