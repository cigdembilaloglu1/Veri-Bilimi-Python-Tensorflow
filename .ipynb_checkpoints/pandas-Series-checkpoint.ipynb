{
 "cells": [
  {
   "cell_type": "code",
   "execution_count": 2,
   "id": "6d0c4873",
   "metadata": {},
   "outputs": [],
   "source": [
    "import numpy as np\n",
    "import pandas as pd\n",
    "\n",
    "sozluk={\"çiğdem\":50, \"zeynep\":14, \"yelda\":85}"
   ]
  },
  {
   "cell_type": "code",
   "execution_count": 4,
   "id": "a96d388f",
   "metadata": {},
   "outputs": [
    {
     "data": {
      "text/plain": [
       "çiğdem    50\n",
       "zeynep    14\n",
       "yelda     85\n",
       "dtype: int64"
      ]
     },
     "execution_count": 4,
     "metadata": {},
     "output_type": "execute_result"
    }
   ],
   "source": [
    "pd.Series(sozluk)"
   ]
  },
  {
   "cell_type": "code",
   "execution_count": null,
   "id": "9c8ffe7f",
   "metadata": {},
   "outputs": [],
   "source": []
  },
  {
   "cell_type": "code",
   "execution_count": 6,
   "id": "67006c08",
   "metadata": {},
   "outputs": [
    {
     "data": {
      "text/plain": [
       "1     atıl\n",
       "2    atlas\n",
       "3    osman\n",
       "dtype: object"
      ]
     },
     "execution_count": 6,
     "metadata": {},
     "output_type": "execute_result"
    }
   ],
   "source": [
    "pd.Series([\"atıl\",\"atlas\",\"osman\"],[1,2,3])"
   ]
  },
  {
   "cell_type": "code",
   "execution_count": 7,
   "id": "7317d5c4",
   "metadata": {},
   "outputs": [],
   "source": [
    " yarismasonuc=pd.Series([10,5,1],[\"atıl\",\"atlas\",\"osman\"])"
   ]
  },
  {
   "cell_type": "code",
   "execution_count": 8,
   "id": "fc36893e",
   "metadata": {},
   "outputs": [
    {
     "data": {
      "text/plain": [
       "atıl     10\n",
       "atlas     5\n",
       "osman     1\n",
       "dtype: int64"
      ]
     },
     "execution_count": 8,
     "metadata": {},
     "output_type": "execute_result"
    }
   ],
   "source": [
    " yarismasonuc"
   ]
  },
  {
   "cell_type": "code",
   "execution_count": 9,
   "id": "aa01033b",
   "metadata": {},
   "outputs": [],
   "source": [
    " yarismasonuc2=pd.Series([20,15,21],[\"atıl\",\"atlas\",\"osman\"])"
   ]
  },
  {
   "cell_type": "code",
   "execution_count": 10,
   "id": "336cb797",
   "metadata": {},
   "outputs": [
    {
     "data": {
      "text/plain": [
       "atıl     20\n",
       "atlas    15\n",
       "osman    21\n",
       "dtype: int64"
      ]
     },
     "execution_count": 10,
     "metadata": {},
     "output_type": "execute_result"
    }
   ],
   "source": [
    " yarismasonuc2"
   ]
  },
  {
   "cell_type": "code",
   "execution_count": 12,
   "id": "9cca3f99",
   "metadata": {},
   "outputs": [
    {
     "data": {
      "text/plain": [
       "15"
      ]
     },
     "execution_count": 12,
     "metadata": {},
     "output_type": "execute_result"
    }
   ],
   "source": [
    " yarismasonuc2[\"atlas\"]"
   ]
  },
  {
   "cell_type": "code",
   "execution_count": 13,
   "id": "64416e69",
   "metadata": {},
   "outputs": [],
   "source": [
    " sonsonuc=yarismasonuc+  yarismasonuc2"
   ]
  },
  {
   "cell_type": "code",
   "execution_count": 14,
   "id": "0c9c125b",
   "metadata": {},
   "outputs": [
    {
     "data": {
      "text/plain": [
       "atıl     30\n",
       "atlas    20\n",
       "osman    22\n",
       "dtype: int64"
      ]
     },
     "execution_count": 14,
     "metadata": {},
     "output_type": "execute_result"
    }
   ],
   "source": [
    "sonsonuc"
   ]
  },
  {
   "cell_type": "code",
   "execution_count": null,
   "id": "ffb9b380",
   "metadata": {},
   "outputs": [],
   "source": []
  },
  {
   "cell_type": "code",
   "execution_count": 15,
   "id": "208de49e",
   "metadata": {},
   "outputs": [],
   "source": [
    "farklıSeries=pd.Series([20,30,40,50],[\"a\",\"b\",\"c\",\"d\"])"
   ]
  },
  {
   "cell_type": "code",
   "execution_count": 17,
   "id": "d4f1e9ac",
   "metadata": {},
   "outputs": [],
   "source": [
    "farklıSeries2=pd.Series([10,5,3,1],[\"a\",\"c\",\"f\",\"g\"])"
   ]
  },
  {
   "cell_type": "code",
   "execution_count": 18,
   "id": "6211061f",
   "metadata": {},
   "outputs": [
    {
     "data": {
      "text/plain": [
       "a    30.0\n",
       "b     NaN\n",
       "c    45.0\n",
       "d     NaN\n",
       "f     NaN\n",
       "g     NaN\n",
       "dtype: float64"
      ]
     },
     "execution_count": 18,
     "metadata": {},
     "output_type": "execute_result"
    }
   ],
   "source": [
    "farklıSeries +farklıSeries2"
   ]
  },
  {
   "cell_type": "code",
   "execution_count": null,
   "id": "1d762579",
   "metadata": {},
   "outputs": [],
   "source": []
  }
 ],
 "metadata": {
  "kernelspec": {
   "display_name": "Python 3 (ipykernel)",
   "language": "python",
   "name": "python3"
  },
  "language_info": {
   "codemirror_mode": {
    "name": "ipython",
    "version": 3
   },
   "file_extension": ".py",
   "mimetype": "text/x-python",
   "name": "python",
   "nbconvert_exporter": "python",
   "pygments_lexer": "ipython3",
   "version": "3.10.3"
  }
 },
 "nbformat": 4,
 "nbformat_minor": 5
}
