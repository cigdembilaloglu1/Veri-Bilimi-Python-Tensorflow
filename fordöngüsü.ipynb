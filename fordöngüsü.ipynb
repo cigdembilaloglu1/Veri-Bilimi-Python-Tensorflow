{
 "cells": [
  {
   "cell_type": "code",
   "execution_count": 16,
   "id": "ceea686f",
   "metadata": {},
   "outputs": [
    {
     "name": "stdout",
     "output_type": "stream",
     "text": [
      "1 tek sayı\n",
      "2 çift sayı\n",
      "3 tek sayı\n",
      "4 çift sayı\n",
      "5 tek sayı\n"
     ]
    }
   ],
   "source": [
    "liste=[1,2,3,4,5]\n",
    "for list in liste:\n",
    "    if list % 2 == 0 :\n",
    "        print(list,\"çift sayı\")\n",
    "    else:\n",
    "        print(list,\n",
    "              \n",
    "              \"tek sayı\")\n",
    "        "
   ]
  },
  {
   "cell_type": "code",
   "execution_count": 19,
   "id": "456614af",
   "metadata": {},
   "outputs": [
    {
     "name": "stdout",
     "output_type": "stream",
     "text": [
      "1\n",
      "4\n",
      "7\n"
     ]
    }
   ],
   "source": [
    "liste=[(1,2,3),(4,5,6),(7,8,9)]\n",
    "for (x,y,z) in liste:\n",
    "    print(x)"
   ]
  },
  {
   "cell_type": "code",
   "execution_count": 25,
   "id": "aabb9dfb",
   "metadata": {},
   "outputs": [
    {
     "data": {
      "text/plain": [
       "dict_items([(1, 'isim'), (2, 'soyisim'), (3, 'yas'), (4, 'medenihal')])"
      ]
     },
     "execution_count": 25,
     "metadata": {},
     "output_type": "execute_result"
    }
   ],
   "source": [
    "dict = {1 : \"isim\" , 2 : \"soyisim\" , 3 : \"yas\" , 4 : \"medenihal\" }\n",
    "dict.items()\n"
   ]
  },
  {
   "cell_type": "code",
   "execution_count": 28,
   "id": "5ff6326d",
   "metadata": {},
   "outputs": [
    {
     "name": "stdout",
     "output_type": "stream",
     "text": [
      "1\n",
      "2\n",
      "3\n",
      "4\n"
     ]
    }
   ],
   "source": [
    "sozluk = {1 : \"isim\" , 2 : \"soyisim\" , 3 : \"yas\" , 4 : \"medenihal\" }\n",
    "for (anahtar,deger) in sozluk.items():\n",
    "    print(anahtar)"
   ]
  },
  {
   "cell_type": "code",
   "execution_count": 41,
   "id": "b57128de",
   "metadata": {},
   "outputs": [
    {
     "name": "stdout",
     "output_type": "stream",
     "text": [
      "2\n",
      "5\n",
      "9\n",
      "7\n",
      "36\n",
      "42\n",
      "25\n"
     ]
    }
   ],
   "source": [
    "liste=[2,5,9,7,6,36,42,25]\n",
    "for numara in liste:\n",
    "    if numara==6:\n",
    "        continue\n",
    "    print(numara)"
   ]
  },
  {
   "cell_type": "code",
   "execution_count": 44,
   "id": "9658288b",
   "metadata": {},
   "outputs": [
    {
     "name": "stdout",
     "output_type": "stream",
     "text": [
      "2\n",
      "5\n",
      "9\n",
      "7\n"
     ]
    }
   ],
   "source": [
    "liste=[2,5,9,7,6,36,42,25]\n",
    "for numara in liste:\n",
    "    if numara==6:\n",
    "        break\n",
    "    print(numara)"
   ]
  }
 ],
 "metadata": {
  "kernelspec": {
   "display_name": "Python 3 (ipykernel)",
   "language": "python",
   "name": "python3"
  },
  "language_info": {
   "codemirror_mode": {
    "name": "ipython",
    "version": 3
   },
   "file_extension": ".py",
   "mimetype": "text/x-python",
   "name": "python",
   "nbconvert_exporter": "python",
   "pygments_lexer": "ipython3",
   "version": "3.10.3"
  }
 },
 "nbformat": 4,
 "nbformat_minor": 5
}
