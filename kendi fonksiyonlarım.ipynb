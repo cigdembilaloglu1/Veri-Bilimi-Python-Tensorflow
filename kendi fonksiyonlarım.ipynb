{
 "cells": [
  {
   "cell_type": "code",
   "execution_count": 1,
   "id": "ebd98dd1",
   "metadata": {},
   "outputs": [],
   "source": [
    "def toplama(x,y):\n",
    "    sonuc=x+y\n",
    "    print(sonuc)"
   ]
  },
  {
   "cell_type": "code",
   "execution_count": 3,
   "id": "939bff20",
   "metadata": {},
   "outputs": [
    {
     "name": "stdout",
     "output_type": "stream",
     "text": [
      "40\n"
     ]
    }
   ],
   "source": [
    "toplama(10,30)"
   ]
  },
  {
   "cell_type": "code",
   "execution_count": 4,
   "id": "f9bf72db",
   "metadata": {},
   "outputs": [],
   "source": [
    "def ortalama(sayi1,sayi2,sayi3,sayi4):\n",
    "    top=sayi1+sayi2+sayi3+sayi4\n",
    "    ort=top/4\n",
    "    print(\"ortalama\",ort)"
   ]
  },
  {
   "cell_type": "code",
   "execution_count": 5,
   "id": "3a491012",
   "metadata": {},
   "outputs": [
    {
     "name": "stdout",
     "output_type": "stream",
     "text": [
      "ortalama 19.75\n"
     ]
    }
   ],
   "source": [
    "ortalama(1,5,9,64)"
   ]
  },
  {
   "cell_type": "code",
   "execution_count": 6,
   "id": "ea0a424a",
   "metadata": {},
   "outputs": [],
   "source": [
    "def modalma(x,y):\n",
    "    mod=x%y\n",
    "    print(mod)"
   ]
  },
  {
   "cell_type": "code",
   "execution_count": 7,
   "id": "71e3e5b3",
   "metadata": {},
   "outputs": [
    {
     "name": "stdout",
     "output_type": "stream",
     "text": [
      "0\n"
     ]
    }
   ],
   "source": [
    "modalma(20,10)"
   ]
  },
  {
   "cell_type": "code",
   "execution_count": null,
   "id": "018cd3ee",
   "metadata": {},
   "outputs": [],
   "source": []
  }
 ],
 "metadata": {
  "kernelspec": {
   "display_name": "Python 3 (ipykernel)",
   "language": "python",
   "name": "python3"
  },
  "language_info": {
   "codemirror_mode": {
    "name": "ipython",
    "version": 3
   },
   "file_extension": ".py",
   "mimetype": "text/x-python",
   "name": "python",
   "nbconvert_exporter": "python",
   "pygments_lexer": "ipython3",
   "version": "3.10.3"
  }
 },
 "nbformat": 4,
 "nbformat_minor": 5
}
