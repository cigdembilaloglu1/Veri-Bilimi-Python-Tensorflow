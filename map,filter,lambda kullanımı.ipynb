{
 "cells": [
  {
   "cell_type": "code",
   "execution_count": 1,
   "id": "1411175e",
   "metadata": {},
   "outputs": [],
   "source": [
    "def bolme(numara):\n",
    "    return numara/2\n",
    "\n"
   ]
  },
  {
   "cell_type": "code",
   "execution_count": 6,
   "id": "16c76cd4",
   "metadata": {},
   "outputs": [],
   "source": [
    "sayilar=[1,2,3,4,5,6,7,8,9,10]\n",
    "\n",
    "liste=[]\n",
    "for sayi in sayilar:\n",
    "    liste.append(bolme(sayi))"
   ]
  },
  {
   "cell_type": "code",
   "execution_count": 7,
   "id": "4590cc47",
   "metadata": {},
   "outputs": [
    {
     "data": {
      "text/plain": [
       "[0.5, 1.0, 1.5, 2.0, 2.5, 3.0, 3.5, 4.0, 4.5, 5.0]"
      ]
     },
     "execution_count": 7,
     "metadata": {},
     "output_type": "execute_result"
    }
   ],
   "source": [
    "liste"
   ]
  },
  {
   "cell_type": "markdown",
   "id": "ce73ddcb",
   "metadata": {},
   "source": [
    "-----------map kullanımı------------"
   ]
  },
  {
   "cell_type": "code",
   "execution_count": 8,
   "id": "93dccaad",
   "metadata": {},
   "outputs": [
    {
     "data": {
      "text/plain": [
       "[0.5, 1.0, 1.5, 2.0, 2.5, 3.0, 3.5, 4.0, 4.5, 5.0]"
      ]
     },
     "execution_count": 8,
     "metadata": {},
     "output_type": "execute_result"
    }
   ],
   "source": [
    "list(map(bolme,sayilar))"
   ]
  },
  {
   "cell_type": "code",
   "execution_count": 9,
   "id": "95c5161e",
   "metadata": {},
   "outputs": [],
   "source": [
    "def harfKontrol(string):\n",
    "    return \"a\" in string"
   ]
  },
  {
   "cell_type": "code",
   "execution_count": 10,
   "id": "09813b9b",
   "metadata": {},
   "outputs": [],
   "source": [
    "isimler=[\"çiğdem\",\"hayriye\",\"ayfer\",\"asiye\"]"
   ]
  },
  {
   "cell_type": "code",
   "execution_count": 11,
   "id": "d0247517",
   "metadata": {},
   "outputs": [
    {
     "data": {
      "text/plain": [
       "[False, True, True, True]"
      ]
     },
     "execution_count": 11,
     "metadata": {},
     "output_type": "execute_result"
    }
   ],
   "source": [
    "list(map(harfKontrol,isimler))"
   ]
  },
  {
   "cell_type": "code",
   "execution_count": 12,
   "id": "691e54b7",
   "metadata": {},
   "outputs": [],
   "source": [
    "sonucSayi=list(map(harfKontrol,isimler))"
   ]
  },
  {
   "cell_type": "code",
   "execution_count": 15,
   "id": "b286338a",
   "metadata": {},
   "outputs": [
    {
     "data": {
      "text/plain": [
       "1"
      ]
     },
     "execution_count": 15,
     "metadata": {},
     "output_type": "execute_result"
    }
   ],
   "source": [
    "sonucSayi.count(False)"
   ]
  },
  {
   "cell_type": "code",
   "execution_count": 17,
   "id": "fb87590b",
   "metadata": {},
   "outputs": [
    {
     "data": {
      "text/plain": [
       "3"
      ]
     },
     "execution_count": 17,
     "metadata": {},
     "output_type": "execute_result"
    }
   ],
   "source": [
    "sonucSayi.count(True)"
   ]
  },
  {
   "cell_type": "markdown",
   "id": "d4154267",
   "metadata": {},
   "source": [
    "--------- filter kullanımı---------"
   ]
  },
  {
   "cell_type": "code",
   "execution_count": 18,
   "id": "605f4091",
   "metadata": {},
   "outputs": [
    {
     "data": {
      "text/plain": [
       "['hayriye', 'ayfer', 'asiye']"
      ]
     },
     "execution_count": 18,
     "metadata": {},
     "output_type": "execute_result"
    }
   ],
   "source": [
    "list(filter(harfKontrol,isimler))"
   ]
  },
  {
   "cell_type": "markdown",
   "id": "d98672d4",
   "metadata": {},
   "source": [
    "içinde sadece a olanları yani true olanları gösteriyor"
   ]
  },
  {
   "cell_type": "markdown",
   "id": "27b1a7e9",
   "metadata": {},
   "source": [
    "---------------lambda kullanımı*----------------"
   ]
  },
  {
   "cell_type": "code",
   "execution_count": 19,
   "id": "d4d7f5a1",
   "metadata": {},
   "outputs": [],
   "source": [
    "carpma=lambda numara: numara *3"
   ]
  },
  {
   "cell_type": "code",
   "execution_count": 20,
   "id": "403fc079",
   "metadata": {},
   "outputs": [
    {
     "data": {
      "text/plain": [
       "30"
      ]
     },
     "execution_count": 20,
     "metadata": {},
     "output_type": "execute_result"
    }
   ],
   "source": [
    "carpma(10)"
   ]
  },
  {
   "cell_type": "code",
   "execution_count": 21,
   "id": "5ef70451",
   "metadata": {},
   "outputs": [
    {
     "data": {
      "text/plain": [
       "[30, 75, 201]"
      ]
     },
     "execution_count": 21,
     "metadata": {},
     "output_type": "execute_result"
    }
   ],
   "source": [
    "ornek=[10,25,67]\n",
    "list(map(carpma,ornek))"
   ]
  },
  {
   "cell_type": "code",
   "execution_count": 22,
   "id": "3d9a02e8",
   "metadata": {},
   "outputs": [
    {
     "data": {
      "text/plain": [
       "[30, 75, 201]"
      ]
     },
     "execution_count": 22,
     "metadata": {},
     "output_type": "execute_result"
    }
   ],
   "source": [
    "ornek=[10,25,67]\n",
    "list(map(lambda numara: numara *3,ornek))"
   ]
  },
  {
   "cell_type": "code",
   "execution_count": null,
   "id": "019ede8d",
   "metadata": {},
   "outputs": [],
   "source": []
  }
 ],
 "metadata": {
  "kernelspec": {
   "display_name": "Python 3 (ipykernel)",
   "language": "python",
   "name": "python3"
  },
  "language_info": {
   "codemirror_mode": {
    "name": "ipython",
    "version": 3
   },
   "file_extension": ".py",
   "mimetype": "text/x-python",
   "name": "python",
   "nbconvert_exporter": "python",
   "pygments_lexer": "ipython3",
   "version": "3.10.3"
  }
 },
 "nbformat": 4,
 "nbformat_minor": 5
}
