{
 "cells": [
  {
   "cell_type": "code",
   "execution_count": null,
   "id": "ad9da117",
   "metadata": {},
   "outputs": [],
   "source": [
    "def hesapMakinesi(a,b,islem):\n",
    "    \n",
    "    if islem not in \"+-*/\":\n",
    "        return \"lütfen şu işlemlerden birini seçiniz: + - * / \"\n",
    "    \n",
    "    if islem ==\"+\":\n",
    "        return (str(a)+ \" + \"+str(b)+\" = \"+ str(a+b))\n",
    "    if islem ==\"-\":\n",
    "        return (str(a)+ \" - \"+str(b)+\" = \"+ str(a-b))\n",
    "    if islem ==\"*\":\n",
    "        return (str(a)+ \" * \"+str(b)+\" = \"+ str(a*b))\n",
    "    if islem ==\"/\":\n",
    "        return (str(a)+ \" / \"+str(b)+\" = \"+ str(a/b))\n",
    "\n",
    "while True:\n",
    "    \n",
    "    #try:\n",
    "        a=int(input(\"1.sayı:\"))\n",
    "        b=int(input(\"2.sayı:\"))\n",
    "        islem=input(\"işleminizi seçiniz : +-*/\")\n",
    "        hesapMakinesi(a,b,islem)\n",
    "        \n",
    "    #except:\n",
    "       #print(\"lütfen sayıları düzgün giriniz\")\n",
    "    "
   ]
  }
 ],
 "metadata": {
  "kernelspec": {
   "display_name": "Python 3 (ipykernel)",
   "language": "python",
   "name": "python3"
  },
  "language_info": {
   "codemirror_mode": {
    "name": "ipython",
    "version": 3
   },
   "file_extension": ".py",
   "mimetype": "text/x-python",
   "name": "python",
   "nbconvert_exporter": "python",
   "pygments_lexer": "ipython3",
   "version": "3.10.3"
  }
 },
 "nbformat": 4,
 "nbformat_minor": 5
}
