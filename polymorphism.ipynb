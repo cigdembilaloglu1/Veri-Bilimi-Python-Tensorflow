{
 "cells": [
  {
   "cell_type": "code",
   "execution_count": 1,
   "id": "4a50de97",
   "metadata": {},
   "outputs": [],
   "source": [
    "class Elma():\n",
    "    def __init__(self,isim):\n",
    "        self.isim=isim\n",
    "        \n",
    "    def bilgiVer(self):\n",
    "        return self.isim+\" 100 kaloridir\""
   ]
  },
  {
   "cell_type": "code",
   "execution_count": 2,
   "id": "e83ba8f8",
   "metadata": {},
   "outputs": [],
   "source": [
    "class Muz():\n",
    "    def __init__(self,isim):\n",
    "        self.isim=isim\n",
    "        \n",
    "    def bilgiVer(self):\n",
    "        return self.isim+\" 200 kaloridir\""
   ]
  },
  {
   "cell_type": "code",
   "execution_count": 3,
   "id": "f10859fa",
   "metadata": {},
   "outputs": [],
   "source": [
    "elma=Elma(\"elma\")"
   ]
  },
  {
   "cell_type": "code",
   "execution_count": 4,
   "id": "2643e591",
   "metadata": {},
   "outputs": [
    {
     "data": {
      "text/plain": [
       "'elma 100 kaloridir'"
      ]
     },
     "execution_count": 4,
     "metadata": {},
     "output_type": "execute_result"
    }
   ],
   "source": [
    "elma.bilgiVer()"
   ]
  },
  {
   "cell_type": "code",
   "execution_count": 5,
   "id": "bd018a69",
   "metadata": {},
   "outputs": [],
   "source": [
    "muz=Muz(\"muz\")"
   ]
  },
  {
   "cell_type": "code",
   "execution_count": 6,
   "id": "581f4c55",
   "metadata": {},
   "outputs": [
    {
     "data": {
      "text/plain": [
       "'muz 200 kaloridir'"
      ]
     },
     "execution_count": 6,
     "metadata": {},
     "output_type": "execute_result"
    }
   ],
   "source": [
    "muz.bilgiVer()"
   ]
  },
  {
   "cell_type": "code",
   "execution_count": 7,
   "id": "b02ce660",
   "metadata": {},
   "outputs": [],
   "source": [
    "meyveler=[elma,muz]"
   ]
  },
  {
   "cell_type": "code",
   "execution_count": 8,
   "id": "7d860f41",
   "metadata": {},
   "outputs": [
    {
     "name": "stdout",
     "output_type": "stream",
     "text": [
      "elma 100 kaloridir\n",
      "muz 200 kaloridir\n"
     ]
    }
   ],
   "source": [
    "for meyve in meyveler:\n",
    "    print(meyve.bilgiVer())"
   ]
  },
  {
   "cell_type": "code",
   "execution_count": null,
   "id": "3c747d01",
   "metadata": {},
   "outputs": [],
   "source": []
  }
 ],
 "metadata": {
  "kernelspec": {
   "display_name": "Python 3 (ipykernel)",
   "language": "python",
   "name": "python3"
  },
  "language_info": {
   "codemirror_mode": {
    "name": "ipython",
    "version": 3
   },
   "file_extension": ".py",
   "mimetype": "text/x-python",
   "name": "python",
   "nbconvert_exporter": "python",
   "pygments_lexer": "ipython3",
   "version": "3.10.3"
  }
 },
 "nbformat": 4,
 "nbformat_minor": 5
}
