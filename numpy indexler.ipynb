{
 "cells": [
  {
   "cell_type": "code",
   "execution_count": 1,
   "id": "79c69966",
   "metadata": {},
   "outputs": [],
   "source": [
    "import numpy as np\n"
   ]
  },
  {
   "cell_type": "code",
   "execution_count": 6,
   "id": "a12753c8",
   "metadata": {},
   "outputs": [],
   "source": [
    "liste=np.arange(0,10)"
   ]
  },
  {
   "cell_type": "code",
   "execution_count": 7,
   "id": "9973cde5",
   "metadata": {},
   "outputs": [
    {
     "data": {
      "text/plain": [
       "array([0, 1, 2, 3, 4, 5, 6, 7, 8, 9])"
      ]
     },
     "execution_count": 7,
     "metadata": {},
     "output_type": "execute_result"
    }
   ],
   "source": [
    "liste"
   ]
  },
  {
   "cell_type": "code",
   "execution_count": 8,
   "id": "da9cb82a",
   "metadata": {},
   "outputs": [
    {
     "data": {
      "text/plain": [
       "5"
      ]
     },
     "execution_count": 8,
     "metadata": {},
     "output_type": "execute_result"
    }
   ],
   "source": [
    "liste[5]"
   ]
  },
  {
   "cell_type": "code",
   "execution_count": 9,
   "id": "46fc9391",
   "metadata": {},
   "outputs": [
    {
     "data": {
      "text/plain": [
       "array([3, 4])"
      ]
     },
     "execution_count": 9,
     "metadata": {},
     "output_type": "execute_result"
    }
   ],
   "source": [
    "liste[3:5]"
   ]
  },
  {
   "cell_type": "code",
   "execution_count": 16,
   "id": "9f376cbe",
   "metadata": {},
   "outputs": [],
   "source": [
    "liste[3:8] = -1"
   ]
  },
  {
   "cell_type": "code",
   "execution_count": 17,
   "id": "43f1b22f",
   "metadata": {},
   "outputs": [
    {
     "data": {
      "text/plain": [
       "array([ 0,  1,  2, -1, -1, -1, -1, -1,  8,  9])"
      ]
     },
     "execution_count": 17,
     "metadata": {},
     "output_type": "execute_result"
    }
   ],
   "source": [
    "liste"
   ]
  },
  {
   "cell_type": "markdown",
   "id": "8b8c3d9c",
   "metadata": {},
   "source": [
    "# slicing numpyarray"
   ]
  },
  {
   "cell_type": "code",
   "execution_count": 18,
   "id": "0f1318ab",
   "metadata": {},
   "outputs": [],
   "source": [
    "nparray=np.arange(0,24)"
   ]
  },
  {
   "cell_type": "code",
   "execution_count": 19,
   "id": "d3675862",
   "metadata": {},
   "outputs": [
    {
     "data": {
      "text/plain": [
       "array([ 0,  1,  2,  3,  4,  5,  6,  7,  8,  9, 10, 11, 12, 13, 14, 15, 16,\n",
       "       17, 18, 19, 20, 21, 22, 23])"
      ]
     },
     "execution_count": 19,
     "metadata": {},
     "output_type": "execute_result"
    }
   ],
   "source": [
    "nparray"
   ]
  },
  {
   "cell_type": "code",
   "execution_count": 20,
   "id": "5aabace0",
   "metadata": {},
   "outputs": [
    {
     "data": {
      "text/plain": [
       "array([4, 5, 6, 7, 8])"
      ]
     },
     "execution_count": 20,
     "metadata": {},
     "output_type": "execute_result"
    }
   ],
   "source": [
    "nparray[4:9]"
   ]
  },
  {
   "cell_type": "code",
   "execution_count": 37,
   "id": "09d94758",
   "metadata": {},
   "outputs": [],
   "source": [
    "slicingdizi=nparray[4:9]"
   ]
  },
  {
   "cell_type": "code",
   "execution_count": 46,
   "id": "c0bac26d",
   "metadata": {},
   "outputs": [],
   "source": []
  },
  {
   "cell_type": "code",
   "execution_count": 49,
   "id": "4a336aa6",
   "metadata": {},
   "outputs": [],
   "source": [
    "slicingdizi=(nparray[4:9] == 700)"
   ]
  },
  {
   "cell_type": "code",
   "execution_count": 50,
   "id": "4f7fade4",
   "metadata": {},
   "outputs": [
    {
     "data": {
      "text/plain": [
       "array([  0,   1,   2,   3, 700, 700, 700, 700, 700,   9,  10,  11,  12,\n",
       "        13,  14,  15,  16,  17,  18,  19,  20,  21,  22,  23])"
      ]
     },
     "execution_count": 50,
     "metadata": {},
     "output_type": "execute_result"
    }
   ],
   "source": [
    "nparray"
   ]
  },
  {
   "cell_type": "markdown",
   "id": "fa87fef3",
   "metadata": {},
   "source": [
    "# slicing yaparken ana veriyi kaybetmemek gerekirse dizinin kopyası üzerinden işlem yapılmalıdır.aşağıdaki gibi"
   ]
  },
  {
   "cell_type": "code",
   "execution_count": 51,
   "id": "96f00b64",
   "metadata": {},
   "outputs": [],
   "source": [
    "dizi=np.arange(10,30)"
   ]
  },
  {
   "cell_type": "code",
   "execution_count": 52,
   "id": "1834468b",
   "metadata": {},
   "outputs": [
    {
     "data": {
      "text/plain": [
       "array([10, 11, 12, 13, 14, 15, 16, 17, 18, 19, 20, 21, 22, 23, 24, 25, 26,\n",
       "       27, 28, 29])"
      ]
     },
     "execution_count": 52,
     "metadata": {},
     "output_type": "execute_result"
    }
   ],
   "source": [
    "dizi"
   ]
  },
  {
   "cell_type": "code",
   "execution_count": 56,
   "id": "43ab0c8d",
   "metadata": {
    "collapsed": true
   },
   "outputs": [],
   "source": [
    "kopyadizi=dizi.copy()"
   ]
  },
  {
   "cell_type": "code",
   "execution_count": 57,
   "id": "b7ee7c9f",
   "metadata": {},
   "outputs": [
    {
     "data": {
      "text/plain": [
       "array([10, 11, 12, 13, 14, 15, 16, 17, 18, 19, 20, 21, 22, 23, 24, 25, 26,\n",
       "       27, 28, 29])"
      ]
     },
     "execution_count": 57,
     "metadata": {},
     "output_type": "execute_result"
    }
   ],
   "source": [
    "kopyadizi"
   ]
  },
  {
   "cell_type": "code",
   "execution_count": 58,
   "id": "163089e0",
   "metadata": {},
   "outputs": [],
   "source": [
    "kopyadizislicing=kopyadizi[3:10]"
   ]
  },
  {
   "cell_type": "code",
   "execution_count": 59,
   "id": "a125fcaf",
   "metadata": {},
   "outputs": [
    {
     "data": {
      "text/plain": [
       "array([13, 14, 15, 16, 17, 18, 19])"
      ]
     },
     "execution_count": 59,
     "metadata": {},
     "output_type": "execute_result"
    }
   ],
   "source": [
    "kopyadizislicing"
   ]
  },
  {
   "cell_type": "code",
   "execution_count": 60,
   "id": "3c72c43d",
   "metadata": {},
   "outputs": [],
   "source": [
    "kopyadizislicing[:] = 800"
   ]
  },
  {
   "cell_type": "code",
   "execution_count": 61,
   "id": "61d39c35",
   "metadata": {},
   "outputs": [
    {
     "data": {
      "text/plain": [
       "array([800, 800, 800, 800, 800, 800, 800])"
      ]
     },
     "execution_count": 61,
     "metadata": {},
     "output_type": "execute_result"
    }
   ],
   "source": [
    "kopyadizislicing"
   ]
  },
  {
   "cell_type": "code",
   "execution_count": 62,
   "id": "21e997a4",
   "metadata": {},
   "outputs": [
    {
     "data": {
      "text/plain": [
       "array([ 10,  11,  12, 800, 800, 800, 800, 800, 800, 800,  20,  21,  22,\n",
       "        23,  24,  25,  26,  27,  28,  29])"
      ]
     },
     "execution_count": 62,
     "metadata": {},
     "output_type": "execute_result"
    }
   ],
   "source": [
    "kopyadizi"
   ]
  },
  {
   "cell_type": "code",
   "execution_count": 63,
   "id": "0709df08",
   "metadata": {},
   "outputs": [
    {
     "data": {
      "text/plain": [
       "array([10, 11, 12, 13, 14, 15, 16, 17, 18, 19, 20, 21, 22, 23, 24, 25, 26,\n",
       "       27, 28, 29])"
      ]
     },
     "execution_count": 63,
     "metadata": {},
     "output_type": "execute_result"
    }
   ],
   "source": [
    "dizi"
   ]
  },
  {
   "cell_type": "code",
   "execution_count": null,
   "id": "33e744bc",
   "metadata": {},
   "outputs": [],
   "source": []
  }
 ],
 "metadata": {
  "kernelspec": {
   "display_name": "Python 3 (ipykernel)",
   "language": "python",
   "name": "python3"
  },
  "language_info": {
   "codemirror_mode": {
    "name": "ipython",
    "version": 3
   },
   "file_extension": ".py",
   "mimetype": "text/x-python",
   "name": "python",
   "nbconvert_exporter": "python",
   "pygments_lexer": "ipython3",
   "version": "3.10.3"
  }
 },
 "nbformat": 4,
 "nbformat_minor": 5
}
